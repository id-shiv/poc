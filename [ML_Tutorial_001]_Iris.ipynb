{
  "nbformat": 4,
  "nbformat_minor": 0,
  "metadata": {
    "colab": {
      "name": "[ML Tutorial 001] Iris.ipynb",
      "provenance": [],
      "collapsed_sections": [],
      "authorship_tag": "ABX9TyMEzDnytRlyvS8m4zWai2jE",
      "include_colab_link": true
    },
    "kernelspec": {
      "name": "python3",
      "display_name": "Python 3"
    }
  },
  "cells": [
    {
      "cell_type": "markdown",
      "metadata": {
        "id": "view-in-github",
        "colab_type": "text"
      },
      "source": [
        "<a href=\"https://colab.research.google.com/github/id-shiv/poc/blob/master/%5BML_Tutorial_001%5D_Iris.ipynb\" target=\"_parent\"><img src=\"https://colab.research.google.com/assets/colab-badge.svg\" alt=\"Open In Colab\"/></a>"
      ]
    },
    {
      "cell_type": "code",
      "metadata": {
        "id": "Jix6mDsoWYQL",
        "colab_type": "code",
        "colab": {
          "base_uri": "https://localhost:8080/",
          "height": 187
        },
        "outputId": "00e2fe94-77cb-40c8-959e-a10f0a600ce4"
      },
      "source": [
        "!pip install pandas\n",
        "!pip install sklearn"
      ],
      "execution_count": 27,
      "outputs": [
        {
          "output_type": "stream",
          "text": [
            "Requirement already satisfied: pandas in /usr/local/lib/python3.6/dist-packages (1.0.3)\n",
            "Requirement already satisfied: python-dateutil>=2.6.1 in /usr/local/lib/python3.6/dist-packages (from pandas) (2.8.1)\n",
            "Requirement already satisfied: pytz>=2017.2 in /usr/local/lib/python3.6/dist-packages (from pandas) (2018.9)\n",
            "Requirement already satisfied: numpy>=1.13.3 in /usr/local/lib/python3.6/dist-packages (from pandas) (1.18.2)\n",
            "Requirement already satisfied: six>=1.5 in /usr/local/lib/python3.6/dist-packages (from python-dateutil>=2.6.1->pandas) (1.12.0)\n",
            "Requirement already satisfied: sklearn in /usr/local/lib/python3.6/dist-packages (0.0)\n",
            "Requirement already satisfied: scikit-learn in /usr/local/lib/python3.6/dist-packages (from sklearn) (0.22.2.post1)\n",
            "Requirement already satisfied: joblib>=0.11 in /usr/local/lib/python3.6/dist-packages (from scikit-learn->sklearn) (0.14.1)\n",
            "Requirement already satisfied: numpy>=1.11.0 in /usr/local/lib/python3.6/dist-packages (from scikit-learn->sklearn) (1.18.2)\n",
            "Requirement already satisfied: scipy>=0.17.0 in /usr/local/lib/python3.6/dist-packages (from scikit-learn->sklearn) (1.4.1)\n"
          ],
          "name": "stdout"
        }
      ]
    },
    {
      "cell_type": "code",
      "metadata": {
        "id": "LekRjAioVy2W",
        "colab_type": "code",
        "colab": {
          "base_uri": "https://localhost:8080/",
          "height": 34
        },
        "outputId": "97d5145a-74a7-4a56-ce1e-2e20488ad8e7"
      },
      "source": [
        "# Libraries\n",
        "import pandas as pd\n",
        "from sklearn.tree import DecisionTreeClassifier\n",
        "from sklearn.svm import SVC\n",
        "from sklearn.metrics import classification_report\n",
        "from sklearn.model_selection import train_test_split\n",
        "\n",
        "# Import, Analyse, Explore and Prepare Data\n",
        "## Import data from online link\n",
        "## Data does not seem to have column headers, specify them using \"names\" attribute\n",
        "data = pd.read_csv('https://raw.githubusercontent.com/jbrownlee/Datasets/master/iris.csv', \n",
        "                   names=['sep_len', 'sep_wid', 'pet_len', 'pet_wid', 'class'])\n",
        "\n",
        "# Explore data\n",
        "# print(data.head())\n",
        "# print(data.shape)\n",
        "# print(data.describe())\n",
        "# Use matplotlib or seaborn library to plot and explore data\n",
        "\n",
        "\n",
        "# Prepare data\n",
        "## Split Features (X) and Label (y)\n",
        "X = data.drop(['class'], axis=1)\n",
        "y = data['class']\n",
        "\n",
        "\n",
        "# Identify the problem type (Classification, Regerssion ...)\n",
        "# Create Model\n",
        "# model = DecisionTreeClassifier()\n",
        "model = SVC(kernel='linear')\n",
        "\n",
        "# Train the Model\n",
        "## Split the Features (X) and Labels (y) by test_size percentage into \n",
        "## Test data and Train data\n",
        "## Train data : Usually 80 to 90% of sample used for training (input to fit method)\n",
        "## Test data : Usually 10 to 20% of sample used for testing the trained model \n",
        "## (input to method that calculated accuracy)\n",
        "X_train, X_test, y_train, y_test = train_test_split(X, y, test_size=0.20)\n",
        "model.fit(X_train, y_train)  # Training the model with initialized ML algorithm\n",
        "\n",
        "# Evaluate the Model\n",
        "## Predict Label for Test Features (X_test) and compare predictions against actual Label (y_test) to evaluate the mode\n",
        "## Output : Accuracy, Confusion Matrix and other metrics\n",
        "# predictions = model.predict([[6, 6, 3, 3,]])\n",
        "# print(classification_report(y_test, predictions))\n",
        "\n",
        "# Predict\n",
        "## Input array of new features to predict label (not part of test or train data samples)\n",
        "predictions = model.predict([[6, 6, 3, 3,]])\n",
        "print(predictions)"
      ],
      "execution_count": 28,
      "outputs": [
        {
          "output_type": "stream",
          "text": [
            "['Iris-versicolor']\n"
          ],
          "name": "stdout"
        }
      ]
    }
  ]
}